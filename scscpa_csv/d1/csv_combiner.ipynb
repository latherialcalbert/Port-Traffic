{
 "cells": [
  {
   "cell_type": "code",
   "execution_count": 1,
   "id": "d07ef2e7",
   "metadata": {},
   "outputs": [
    {
     "name": "stdout",
     "output_type": "stream",
     "text": [
      "4\n",
      "['/Users/latherialcalbert/Documents/portResearch/scscpa_csv/untitled folder/charlestonintermodalrailschedule.pdf_3.csv', '/Users/latherialcalbert/Documents/portResearch/scscpa_csv/untitled folder/charlestonintermodalrailschedule.pdf_2.csv', '/Users/latherialcalbert/Documents/portResearch/scscpa_csv/untitled folder/charlestonintermodalrailschedule.pdf_1.csv', '/Users/latherialcalbert/Documents/portResearch/scscpa_csv/untitled folder/charlestonintermodalrailschedule.pdf_4.csv']\n"
     ]
    }
   ],
   "source": [
    "import pandas as pd\n",
    "import os\n",
    "import glob\n",
    "\n",
    "path = os.getcwd()\n",
    "csv_files = glob.glob(os.path.join(path, \"*.csv\"))\n",
    "print(len(csv_files))\n",
    "print(csv_files)"
   ]
  },
  {
   "cell_type": "code",
   "execution_count": 2,
   "id": "5a0560c4",
   "metadata": {},
   "outputs": [
    {
     "name": "stdout",
     "output_type": "stream",
     "text": [
      "combined_charlestonintermodalrailschedule.pdf_4.csv\n"
     ]
    },
    {
     "name": "stderr",
     "output_type": "stream",
     "text": [
      "/var/folders/rw/__mb4wmn317bq6zqm1ftt10r0000gn/T/ipykernel_8746/3247093251.py:15: FutureWarning: The frame.append method is deprecated and will be removed from pandas in a future version. Use pandas.concat instead.\n",
      "  df_append = df_append.append(df_temp)\n",
      "/var/folders/rw/__mb4wmn317bq6zqm1ftt10r0000gn/T/ipykernel_8746/3247093251.py:15: FutureWarning: The frame.append method is deprecated and will be removed from pandas in a future version. Use pandas.concat instead.\n",
      "  df_append = df_append.append(df_temp)\n",
      "/var/folders/rw/__mb4wmn317bq6zqm1ftt10r0000gn/T/ipykernel_8746/3247093251.py:15: FutureWarning: The frame.append method is deprecated and will be removed from pandas in a future version. Use pandas.concat instead.\n",
      "  df_append = df_append.append(df_temp)\n",
      "/var/folders/rw/__mb4wmn317bq6zqm1ftt10r0000gn/T/ipykernel_8746/3247093251.py:15: FutureWarning: The frame.append method is deprecated and will be removed from pandas in a future version. Use pandas.concat instead.\n",
      "  df_append = df_append.append(df_temp)\n"
     ]
    }
   ],
   "source": [
    "#WORKING WORKING WORKING WORKING\n",
    "for file in sorted(csv_files):\n",
    "    count = 0\n",
    "    if(count == 0):\n",
    "        name = file\n",
    "final_name = \"combined_\" + os.path.basename(os.path.normpath(name))\n",
    "print(final_name)\n",
    "path = os.getcwd()\n",
    "csv_files = glob.glob(os.path.join(path, \"*.csv\"))\n",
    "\n",
    "df_append = pd.DataFrame()\n",
    "#append all files together\n",
    "for file in sorted(csv_files):\n",
    "        df_temp = pd.read_csv(file,index_col=None,header = None)\n",
    "        df_append = df_append.append(df_temp)\n",
    "df_append\n",
    "df_append.to_csv(final_name)"
   ]
  },
  {
   "cell_type": "code",
   "execution_count": null,
   "id": "45bf3666",
   "metadata": {},
   "outputs": [],
   "source": []
  }
 ],
 "metadata": {
  "kernelspec": {
   "display_name": "Python 3 (ipykernel)",
   "language": "python",
   "name": "python3"
  },
  "language_info": {
   "codemirror_mode": {
    "name": "ipython",
    "version": 3
   },
   "file_extension": ".py",
   "mimetype": "text/x-python",
   "name": "python",
   "nbconvert_exporter": "python",
   "pygments_lexer": "ipython3",
   "version": "3.9.12"
  }
 },
 "nbformat": 4,
 "nbformat_minor": 5
}
