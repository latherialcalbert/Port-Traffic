{
 "cells": [
  {
   "cell_type": "code",
   "execution_count": null,
   "id": "d07ef2e7",
   "metadata": {},
   "outputs": [],
   "source": [
    "import pandas as pd\n",
    "import os\n",
    "import glob\n",
    "\n",
    "path = os.getcwd()\n",
    "csv_files = glob.glob(os.path.join(path, \"*.csv\"))\n",
    "print(len(csv_files))\n",
    "print(csv_files)"
   ]
  },
  {
   "cell_type": "code",
   "execution_count": null,
   "id": "5a0560c4",
   "metadata": {},
   "outputs": [],
   "source": [
    "#WORKING WORKING WORKING WORKING\n",
    "for file in sorted(csv_files):\n",
    "    count = 0\n",
    "    if(count == 0):\n",
    "        name = file\n",
    "final_name = \"combined_\" + os.path.basename(os.path.normpath(name))\n",
    "print(final_name)\n",
    "path = os.getcwd()\n",
    "csv_files = glob.glob(os.path.join(path, \"*.csv\"))\n",
    "\n",
    "df_append = pd.DataFrame()\n",
    "#append all files together\n",
    "for file in sorted(csv_files):\n",
    "        df_temp = pd.read_csv(file,index_col=None,header = None)\n",
    "        df_append = df_append.append(df_temp)\n",
    "df_append\n",
    "df_append.to_csv(final_name)"
   ]
  }
 ],
 "metadata": {
  "kernelspec": {
   "display_name": "Python 3 (ipykernel)",
   "language": "python",
   "name": "python3"
  },
  "language_info": {
   "codemirror_mode": {
    "name": "ipython",
    "version": 3
   },
   "file_extension": ".py",
   "mimetype": "text/x-python",
   "name": "python",
   "nbconvert_exporter": "python",
   "pygments_lexer": "ipython3",
   "version": "3.9.12"
  }
 },
 "nbformat": 4,
 "nbformat_minor": 5
}
